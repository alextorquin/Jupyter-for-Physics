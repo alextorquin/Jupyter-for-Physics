{
 "cells": [
  {
   "cell_type": "markdown",
   "metadata": {},
   "source": [
    "# ipywidgets\n",
    "\n",
    "The ipywidgets Python module is responsible for giving us easy interactivity. Detailed documentation is available at https://github.com/ipython/ipywidgets\n",
    "\n",
    "In its simplest form, you begin by creating a function that returns something"
   ]
  },
  {
   "cell_type": "code",
   "execution_count": null,
   "metadata": {
    "collapsed": false
   },
   "outputs": [],
   "source": [
    "def add_one(x=7):\n",
    "    return(x+1)"
   ]
  },
  {
   "cell_type": "code",
   "execution_count": null,
   "metadata": {
    "collapsed": false
   },
   "outputs": [],
   "source": [
    "add_one(5)"
   ]
  },
  {
   "cell_type": "markdown",
   "metadata": {},
   "source": [
    "You then wrap this with the interact function from the ipywidgets module"
   ]
  },
  {
   "cell_type": "code",
   "execution_count": null,
   "metadata": {
    "collapsed": false
   },
   "outputs": [],
   "source": [
    "from ipywidgets import interact\n",
    "interact(add_one , x=(0,10));"
   ]
  },
  {
   "cell_type": "markdown",
   "metadata": {},
   "source": [
    "Once we understand the basic mechanism, we can do something more interesting. For example, let's use the Python symbolic mathematics module, sympy, to return the series expansion of sin(x)."
   ]
  },
  {
   "cell_type": "code",
   "execution_count": null,
   "metadata": {
    "collapsed": false
   },
   "outputs": [],
   "source": [
    "import sympy as sp\n",
    "def expand_sin(num_terms=10):\n",
    "    x = sp.symbols('x')\n",
    "    expr = sp.sin(x)\n",
    "    return( expr.series(x, 0, num_terms) )\n",
    "\n",
    "expand_sin(6)"
   ]
  },
  {
   "cell_type": "markdown",
   "metadata": {},
   "source": [
    "Wrapping this with interact allows us to control the number of terms in the expansion very easily"
   ]
  },
  {
   "cell_type": "code",
   "execution_count": null,
   "metadata": {
    "collapsed": false
   },
   "outputs": [],
   "source": [
    "interact(expand_sin,num_terms=(0,100));"
   ]
  },
  {
   "cell_type": "markdown",
   "metadata": {},
   "source": [
    "You may prefer some nicer formmating. The following sympy commands switches to a prettier output format."
   ]
  },
  {
   "cell_type": "code",
   "execution_count": null,
   "metadata": {
    "collapsed": true
   },
   "outputs": [],
   "source": [
    "from sympy import init_printing\n",
    "init_printing() "
   ]
  },
  {
   "cell_type": "markdown",
   "metadata": {},
   "source": [
    "Now, the output looks much better!"
   ]
  },
  {
   "cell_type": "code",
   "execution_count": null,
   "metadata": {
    "collapsed": false
   },
   "outputs": [],
   "source": [
    "interact(expand_sin,num_terms=(0,100));"
   ]
  },
  {
   "cell_type": "markdown",
   "metadata": {},
   "source": [
    "With a little more work, we can plot the series against sin(x)"
   ]
  },
  {
   "cell_type": "code",
   "execution_count": null,
   "metadata": {
    "collapsed": false
   },
   "outputs": [],
   "source": [
    "from sympy.utilities.lambdify import lambdify\n",
    "import numpy as np\n",
    "import matplotlib.pyplot as plt\n",
    "def plot_series(n=2):\n",
    "    #Find the series expansion and remove the Order(X^n) term\n",
    "    sin_series = expand_sin(n).removeO()\n",
    "    #Create a version of this series that can evaluate a numpy array\n",
    "    x = sp.symbols('x')\n",
    "    eval_series = lambdify(x, sin_series, modules=['numpy'])\n",
    "    #Create the plot\n",
    "    xvals = np.linspace(-2*np.pi, 2*np.pi, 100)\n",
    "    plt.plot(xvals, eval_series(xvals))\n",
    "    plt.plot(xvals, np.sin(xvals))\n",
    "    #Set axes\n",
    "    axes = plt.gca()\n",
    "    axes.set_ylim([-4,4])\n",
    "    axes.set_xlim([-np.pi*2,np.pi*2])\n"
   ]
  },
  {
   "cell_type": "code",
   "execution_count": null,
   "metadata": {
    "collapsed": false
   },
   "outputs": [],
   "source": [
    "plot_series(2)"
   ]
  },
  {
   "cell_type": "markdown",
   "metadata": {},
   "source": [
    "Although a little more complex, this function is simlar to all of the others we've looked at in that it has an input and an output. \n",
    "\n",
    "As such, we can use interact with it.\n",
    "\n",
    "Wrapping this as an interact gives us"
   ]
  },
  {
   "cell_type": "code",
   "execution_count": null,
   "metadata": {
    "collapsed": false
   },
   "outputs": [],
   "source": [
    "interact(plot_series,n=(2,50));"
   ]
  },
  {
   "cell_type": "markdown",
   "metadata": {},
   "source": [
    "Even though it's the most basic ipywidgets interface available, we can build quite complex GUIs with the interact function"
   ]
  },
  {
   "cell_type": "code",
   "execution_count": null,
   "metadata": {
    "collapsed": true
   },
   "outputs": [],
   "source": [
    "from sympy.utilities.lambdify import lambdify\n",
    "import numpy as np\n",
    "import matplotlib.pyplot as plt\n",
    "from sympy.parsing.sympy_parser import parse_expr\n",
    "def advanced_plot_series(n=3,show_function=True,show_series=True,function='sin'):\n",
    "    \n",
    "    #Parse the expression\n",
    "    function = function + '(x)'\n",
    "    function = parse_expr(function)\n",
    "    x = sp.symbols('x')\n",
    "    #Find the series expansion and remove the Order(X^n) term\n",
    "    series = function.series(x, 0, n) \n",
    "    series = series.removeO()\n",
    "    #Create a version of this series that can evaluate a numpy array\n",
    "    eval_series = lambdify(x, series, modules=['numpy'])\n",
    "    eval_func = lambdify(x,function,modules=['numpy'])\n",
    "    #Create the plot\n",
    "    xvals = np.linspace(-2*np.pi, 2*np.pi, 100)\n",
    "    if(show_series):\n",
    "        plt.plot(xvals, eval_series(xvals))\n",
    "    if(show_function):\n",
    "        plt.plot(xvals, eval_func(xvals))\n",
    "    #Set axes\n",
    "    axes = plt.gca()\n",
    "    axes.set_ylim([-4,4])\n",
    "    axes.set_xlim([-np.pi*2,np.pi*2])"
   ]
  },
  {
   "cell_type": "markdown",
   "metadata": {},
   "source": [
    "This function has multiple arguments which leads to multiple controls"
   ]
  },
  {
   "cell_type": "code",
   "execution_count": null,
   "metadata": {
    "collapsed": false
   },
   "outputs": [],
   "source": [
    "interact(advanced_plot_series,\n",
    "         n=(2,50),\n",
    "         show_function=True,\n",
    "         function=('sin','cos','tan')\n",
    "         );"
   ]
  }
 ],
 "metadata": {
  "kernelspec": {
   "display_name": "Python 3",
   "language": "python",
   "name": "python3"
  },
  "language_info": {
   "codemirror_mode": {
    "name": "ipython",
    "version": 3
   },
   "file_extension": ".py",
   "mimetype": "text/x-python",
   "name": "python",
   "nbconvert_exporter": "python",
   "pygments_lexer": "ipython3",
   "version": "3.5.1"
  }
 },
 "nbformat": 4,
 "nbformat_minor": 0
}
